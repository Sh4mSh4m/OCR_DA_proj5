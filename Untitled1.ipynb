{
 "cells": [
  {
   "attachments": {},
   "cell_type": "markdown",
   "metadata": {},
   "source": [
    "# Projet 5 Etude de marche\n",
    "\n",
    "L'objectif est d'exporter du poulet, l'idee serait donc de cibler des pays qui importent bcp de poulet et en produisent peu.\n",
    "\n",
    "Series temporelles annuelles:\n",
    "Tous les pays, population totalem Populations estimations entre 2018 et 2013 (annees pour laquelle on a des donnees concernant les disponibilites alimentaires.\n",
    "\n",
    "\n",
    "\n",
    "PIB\n",
    "\n",
    "\n",
    "Dispo alimentaire\n",
    "\n",
    "\n",
    "\n"
   ]
  },
  {
   "cell_type": "code",
   "execution_count": null,
   "metadata": {},
   "outputs": [],
   "source": []
  }
 ],
 "metadata": {
  "kernelspec": {
   "display_name": "Python 3",
   "language": "python",
   "name": "python3"
  },
  "language_info": {
   "codemirror_mode": {
    "name": "ipython",
    "version": 3
   },
   "file_extension": ".py",
   "mimetype": "text/x-python",
   "name": "python",
   "nbconvert_exporter": "python",
   "pygments_lexer": "ipython3",
   "version": "3.6.8"
  }
 },
 "nbformat": 4,
 "nbformat_minor": 2
}
